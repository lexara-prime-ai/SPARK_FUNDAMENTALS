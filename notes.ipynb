{
 "cells": [
  {
   "cell_type": "markdown",
   "metadata": {},
   "source": [
    "### Spark fundamentals"
   ]
  },
  {
   "cell_type": "code",
   "execution_count": 1,
   "metadata": {},
   "outputs": [],
   "source": [
    "# Import pyspark(Spark's python wrapper)\n",
    "from pyspark.sql import SparkSession"
   ]
  },
  {
   "cell_type": "code",
   "execution_count": 2,
   "metadata": {},
   "outputs": [
    {
     "name": "stderr",
     "output_type": "stream",
     "text": [
      "Setting default log level to \"WARN\".\n",
      "To adjust logging level use sc.setLogLevel(newLevel). For SparkR, use setLogLevel(newLevel).\n",
      "24/01/20 09:37:41 WARN NativeCodeLoader: Unable to load native-hadoop library for your platform... using builtin-java classes where applicable\n"
     ]
    }
   ],
   "source": [
    "# Create spark session\n",
    "spark = SparkSession.builder.getOrCreate()"
   ]
  },
  {
   "cell_type": "code",
   "execution_count": 3,
   "metadata": {},
   "outputs": [],
   "source": [
    "# Define file path\n",
    "file_path = \"./data/people.csv\"\n",
    "\n",
    "# Load data from a csv file\n",
    "df = spark.read.csv(file_path, header=True)"
   ]
  },
  {
   "cell_type": "code",
   "execution_count": 4,
   "metadata": {},
   "outputs": [],
   "source": [
    "# Define table name\n",
    "table_name = \"organizations\"\n",
    "\n",
    "# Create an SQL table \n",
    "df.createOrReplaceTempView(table_name)"
   ]
  },
  {
   "cell_type": "code",
   "execution_count": 5,
   "metadata": {},
   "outputs": [
    {
     "name": "stdout",
     "output_type": "stream",
     "text": [
      "+-----+---------------+--------------------+--------------------+--------------------+--------------------+-------+--------------------+-------------------+\n",
      "|Index|Organization Id|                Name|             Website|             Country|         Description|Founded|            Industry|Number of employees|\n",
      "+-----+---------------+--------------------+--------------------+--------------------+--------------------+-------+--------------------+-------------------+\n",
      "|    1|E84A904909dF528|          Liu-Hoover|http://www.day-ha...|      Western Sahara|Ergonomic zero ad...|   1980|   Online Publishing|               6852|\n",
      "|    2|AAC4f9aBF86EAeF|       Orr-Armstrong|https://www.chapm...|             Algeria|Ergonomic radical...|   1970|     Import / Export|               7994|\n",
      "|    3|ad2eb3C8C24DB87|           Gill-Lamb|     http://lin.com/|       Cote d'Ivoire|Programmable inte...|   2005|   Apparel / Fashion|               5105|\n",
      "|    4|D76BB12E5eE165B|         Bauer-Weiss|https://gillespie...|United States of ...|Synergistic maxim...|   2015|               Dairy|               9069|\n",
      "|    5|2F31EddF2Db9aAE|         Love-Palmer| https://kramer.com/|             Denmark|Optimized optimiz...|   2010|Management Consul...|               6991|\n",
      "|    6|6774DC1dB00BD11|Farmer, Edwards a...|http://wolfe-boyd...|      Norfolk Island|Virtual leadinged...|   2003|  Mental Health Care|               3503|\n",
      "|    7|116B5cD4eE1fAAc|Bass, Hester and ...|https://meza-smit...|          Uzbekistan|Multi-tiered syst...|   1994|   Computer Hardware|               2762|\n",
      "|    8|AB2eA15d98b6BD4|Strickland, Gray ...|   http://kerr.info/|              Israel|Team-oriented fre...|   1987|     Performing Arts|               7020|\n",
      "|    9|0c6D831e8DceCfE|Sparks, Decker an...|https://www.howe....|              Israel|Down-sized conten...|   1977|Marketing / Adver...|               2709|\n",
      "|   10|9ABE0c8aee135d6|Osborn, Ford and ...|http://www.mcdona...|Syrian Arab Republic|Optional coherent...|   1990|Investment Bankin...|               5731|\n",
      "|   11|C494aBe0CDB9c70|        Gonzales Inc|    http://lara.org/|              Angola|Enterprise-wide a...|   2019|Capital Markets /...|               2252|\n",
      "|   12|9FBF69aa2D9AAF1|Ballard, Goodman ...|http://berger-che...|                Iran|Multi-layered zer...|   2019|Logistics / Procu...|               6165|\n",
      "|   13|4EB9d3E5cF79b91|Bernard, Payne an...|http://williamson...|         Afghanistan|Polarized dynamic...|   1990|      Transportation|                730|\n",
      "|   14|e5CA6529DCD4030| Mcpherson-Blanchard|http://www.ward.com/|            Bulgaria|Integrated didact...|   1972|     Law Enforcement|               9890|\n",
      "|   15|b0BBeBB36bAbb35|Koch, Gomez and Hays|http://ewing-rosa...|French Southern T...|Operative nationa...|   1997|  Financial Services|               8497|\n",
      "|   16|CDa7Ec784D5A8Bd|Meza, Ramirez and...|  https://hardy.biz/|         Timor-Leste|Customer-focused ...|   2012|Public Relations ...|               5205|\n",
      "|   17|b7cBE6A9E79A56F|Morales, Hinton a...| https://hudson.com/|              Serbia|Seamless global u...|   2014|Museums / Institu...|               6706|\n",
      "|   18|e5cab57FFF6f4bd|       Abbott-Arroyo| http://delgado.net/|             Hungary|Visionary holisti...|   1994|Architecture / Pl...|                117|\n",
      "|   19|3851f381Ea54d70|       Trevino-Foley| https://baxter.com/|              Canada|Enterprise-wide 6...|   1973|      Wine / Spirits|               6765|\n",
      "|   20|2FaDD3Ac0fB4052|Bowman, Walters a...|https://www.drake...|               Yemen|Exclusive client-...|   1988|         Think Tanks|               5926|\n",
      "+-----+---------------+--------------------+--------------------+--------------------+--------------------+-------+--------------------+-------------------+\n",
      "only showing top 20 rows\n",
      "\n"
     ]
    }
   ],
   "source": [
    "# Define query\n",
    "query = f\"SELECT * FROM {table_name}\"\n",
    "\n",
    "# Query the table\n",
    "spark.sql(query).show()"
   ]
  },
  {
   "cell_type": "code",
   "execution_count": 14,
   "metadata": {},
   "outputs": [
    {
     "data": {
      "text/plain": [
       "DataFrame[col_name: string]"
      ]
     },
     "execution_count": 14,
     "metadata": {},
     "output_type": "execute_result"
    }
   ],
   "source": [
    "# Inspect table schema\n",
    "result = spark.sql(f\"SHOW COLUMNS FROM {table_name}\")\n",
    "\n",
    "result"
   ]
  },
  {
   "cell_type": "code",
   "execution_count": 10,
   "metadata": {},
   "outputs": [
    {
     "data": {
      "text/plain": [
       "DataFrame[Index: string, Organization Id: string, Name: string, Website: string, Country: string, Description: string, Founded: string, Industry: string, Number of employees: string]"
      ]
     },
     "execution_count": 10,
     "metadata": {},
     "output_type": "execute_result"
    }
   ],
   "source": [
    "# Inspect table schema\n",
    "result = spark.sql(f\"SELECT * FROM {table_name} LIMIT 0\")\n",
    "\n",
    "result"
   ]
  }
 ],
 "metadata": {
  "kernelspec": {
   "display_name": "base",
   "language": "python",
   "name": "python3"
  },
  "language_info": {
   "codemirror_mode": {
    "name": "ipython",
    "version": 3
   },
   "file_extension": ".py",
   "mimetype": "text/x-python",
   "name": "python",
   "nbconvert_exporter": "python",
   "pygments_lexer": "ipython3",
   "version": "3.11.5"
  }
 },
 "nbformat": 4,
 "nbformat_minor": 2
}
